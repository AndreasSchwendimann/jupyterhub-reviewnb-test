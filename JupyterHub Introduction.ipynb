{
 "cells": [
  {
   "cell_type": "markdown",
   "metadata": {},
   "source": [
    "# Introduction to Sherpany JupyterHub & Notebooks"
   ]
  },
  {
   "cell_type": "markdown",
   "metadata": {},
   "source": [
    "## 1. Structure & General Stuff\n",
    "The <a href='https://wiki.sherpany.com/display/EN/JupyterHub'>JupyterHub wiki</a> contains documentation of our libraries and setup.\n",
    "\n",
    "The *utils* folder contains various tools and libraries which facilitate the data access and processing.\n",
    "*Setup & Models* is still being built up and will contain notebooks containing theory and implementation examples for various predictive and statistical methods.\n",
    "\n",
    "All projects (datascience projects or general insight reporting) are in the *Projects* folder. As documented on the wiki, each folder follows a defined structure with the ticket number at the beginning.\n",
    "\n",
    "### 1.1. Execution of Code Cells\n",
    "There are multiple ways to run code in a cell.\n",
    "- shift-enter: runs cell and selects next one below\n",
    "- ctrl-enter: runs cell and selects current cell\n",
    "- alt/option-enter: runs cell and inserts a new one below"
   ]
  },
  {
   "cell_type": "markdown",
   "metadata": {},
   "source": [
    "## 2. Markdown\n",
    "All text elements in reports are done in markdown cells such as this one. It uses the standard <a href='https://daringfireball.net/projects/markdown/' > Mardown </a> format.\n",
    "### 2.1. Titles\n",
    "One of the most used elements are titles. They can be created by adding # in front of the title text.\n",
    "The number of # determines the order of title with one # corresponding to main headers."
   ]
  },
  {
   "cell_type": "markdown",
   "metadata": {},
   "source": [
    "Execute this cell to show examples:\n",
    "# Example Title 1\n",
    "## Example Title 1.1\n",
    "### Example Title 1.1.1\n",
    "#### Example Title 1.1.1.1.\n",
    "##### Example Title 1.1.1.1.1."
   ]
  },
  {
   "cell_type": "markdown",
   "metadata": {},
   "source": [
    "### 2.2. General Formatting\n",
    "**Bold text** is done with ** before and after the text.\n",
    "\n",
    "*Italic text* is done with * before and after the text.\n",
    "\n",
    "horizontal line with ---\n",
    "\n",
    "---"
   ]
  },
  {
   "cell_type": "markdown",
   "metadata": {},
   "source": [
    "### 2.3. Lists\n",
    "Bullet points are easily done by starting each line with -, whereas numbered lists can be created by adding the respective numbers in front."
   ]
  },
  {
   "cell_type": "markdown",
   "metadata": {},
   "source": [
    "Execute this cell with shift-enter to show examples:\n",
    "- bullet point list\n",
    "- second item\n",
    "\n",
    "1. numbered list\n",
    "2. second item"
   ]
  },
  {
   "cell_type": "markdown",
   "metadata": {},
   "source": [
    "### 2.4. Table\n",
    "A simple table can be created as demonstrated below:"
   ]
  },
  {
   "cell_type": "markdown",
   "metadata": {},
   "source": [
    "| This | is   |\n",
    "|------|------|\n",
    "|   a  | table|"
   ]
  },
  {
   "cell_type": "markdown",
   "metadata": {},
   "source": [
    "## 3. Data Examples\n",
    "This segment gives a short introduction in simple sql queries and how to do them within JupyterHub.\n",
    "### 3.1. Load Libraries\n",
    "As mentioned above, the *utils* folder contains all functions necessary to query the backend postgreSQL db.\n",
    "Connection and extraction is done with the sql function of the common module and the <a href = 'https://wiki.sherpany.com/display/EN/SQL+Constants'>sql_constants</a> helps writing short and easy to read queries."
   ]
  },
  {
   "cell_type": "code",
   "execution_count": 10,
   "metadata": {},
   "outputs": [],
   "source": [
    "import sys\n",
    "sys.path.append('/opt/notebooks/utils');\n",
    "from common import sql\n",
    "import sql_constants as c"
   ]
  },
  {
   "cell_type": "markdown",
   "metadata": {},
   "source": [
    "### 3.2. Search DataBase Tables\n",
    "As there are 204 different tables in our database. Finding the right table can sometimes be tricky. The following command lists all tables which title contains 'comment'."
   ]
  },
  {
   "cell_type": "code",
   "execution_count": 11,
   "metadata": {},
   "outputs": [
    {
     "data": {
      "text/plain": [
       "[('comments_comment',),\n",
       " ('comments_commentstatus',),\n",
       " ('comments_mention',),\n",
       " ('permissions_commentthreadmemberaccess',),\n",
       " ('comments_commentthread',)]"
      ]
     },
     "execution_count": 11,
     "metadata": {},
     "output_type": "execute_result"
    }
   ],
   "source": [
    "sql(\"select TABLE_NAME from information_schema.tables where table_name LIKE '%comment%'\")"
   ]
  },
  {
   "cell_type": "markdown",
   "metadata": {},
   "source": [
    "The next step is to look at the columns in a table and what type of data they contain."
   ]
  },
  {
   "cell_type": "code",
   "execution_count": 12,
   "metadata": {},
   "outputs": [
    {
     "data": {
      "text/plain": [
       "[('created', 'timestamp with time zone'),\n",
       " ('modified', 'timestamp with time zone'),\n",
       " ('deleted', 'timestamp with time zone'),\n",
       " ('id', 'uuid'),\n",
       " ('state', 'text'),\n",
       " ('meeting_document_page', 'smallint'),\n",
       " ('agenda_item_id', 'integer'),\n",
       " ('event_id', 'integer'),\n",
       " ('meeting_document_id', 'integer')]"
      ]
     },
     "execution_count": 12,
     "metadata": {},
     "output_type": "execute_result"
    }
   ],
   "source": [
    "sql(\"select column_name,data_type from information_schema.columns where table_name = 'comments_commentthread'\")"
   ]
  },
  {
   "cell_type": "markdown",
   "metadata": {},
   "source": [
    "### 3.3. Examples\n",
    "#### Example 1: count\n",
    "Extract the total number of active demo rooms."
   ]
  },
  {
   "cell_type": "code",
   "execution_count": 13,
   "metadata": {},
   "outputs": [
    {
     "data": {
      "text/plain": [
       "[(379,)]"
      ]
     },
     "execution_count": 13,
     "metadata": {},
     "output_type": "execute_result"
    }
   ],
   "source": [
    "sql(\"SELECT count(DISTINCT r.id) \"\n",
    "    \"FROM rooms_room r \"\n",
    "    \"WHERE r.is_active AND r.is_demo\")"
   ]
  },
  {
   "cell_type": "markdown",
   "metadata": {},
   "source": [
    "#### Example 2: count & aggregate\n",
    "Extract a table with the count of meetings per productive room id. For this, we group all meeting ids by room ids. *sql_constants* contains a query which already filters for all room ids which are active (*is_active*), not demo (*NOT is_demo*) and not sherpany (*NOT is_sherpany*). Extracting an entire dataframe can be done using the *queryToDF* function which returns a pandas dataframe."
   ]
  },
  {
   "cell_type": "code",
   "execution_count": 9,
   "metadata": {},
   "outputs": [
    {
     "data": {
      "text/html": [
       "<div>\n",
       "<style scoped>\n",
       "    .dataframe tbody tr th:only-of-type {\n",
       "        vertical-align: middle;\n",
       "    }\n",
       "\n",
       "    .dataframe tbody tr th {\n",
       "        vertical-align: top;\n",
       "    }\n",
       "\n",
       "    .dataframe thead th {\n",
       "        text-align: right;\n",
       "    }\n",
       "</style>\n",
       "<table border=\"1\" class=\"dataframe\">\n",
       "  <thead>\n",
       "    <tr style=\"text-align: right;\">\n",
       "      <th></th>\n",
       "      <th>count(m.id)</th>\n",
       "      <th>m.room_id</th>\n",
       "    </tr>\n",
       "  </thead>\n",
       "  <tbody>\n",
       "    <tr>\n",
       "      <th>0</th>\n",
       "      <td>26</td>\n",
       "      <td>839</td>\n",
       "    </tr>\n",
       "    <tr>\n",
       "      <th>1</th>\n",
       "      <td>379</td>\n",
       "      <td>471</td>\n",
       "    </tr>\n",
       "    <tr>\n",
       "      <th>2</th>\n",
       "      <td>1</td>\n",
       "      <td>1446</td>\n",
       "    </tr>\n",
       "    <tr>\n",
       "      <th>3</th>\n",
       "      <td>10</td>\n",
       "      <td>1766</td>\n",
       "    </tr>\n",
       "    <tr>\n",
       "      <th>4</th>\n",
       "      <td>26</td>\n",
       "      <td>662</td>\n",
       "    </tr>\n",
       "  </tbody>\n",
       "</table>\n",
       "</div>"
      ],
      "text/plain": [
       "   count(m.id)  m.room_id\n",
       "0           26        839\n",
       "1          379        471\n",
       "2            1       1446\n",
       "3           10       1766\n",
       "4           26        662"
      ]
     },
     "execution_count": 9,
     "metadata": {},
     "output_type": "execute_result"
    }
   ],
   "source": [
    "from common import queryToDF\n",
    "query = (\"SELECT DISTINCT count(DISTINCT m.id), m.room_id \"\n",
    "         \"FROM meetings_meeting m \"\n",
    "         \"WHERE m.id IN (\"+c.EVENTS_IN_PRODUCTIVE_ROOM_IDS+\")\"\n",
    "         \"GROUP BY m.room_id \")\n",
    "data = queryToDF(query)\n",
    "data.head()"
   ]
  },
  {
   "cell_type": "markdown",
   "metadata": {},
   "source": [
    "#### Example 3: csv export\n",
    "If data needed in a standard format such as a csv, the common module includes *query_with_automated_custom_headers_to_csv* which writes a csv file with the data extracted using the query. Here we take the same query as above, but export it automatically via csv."
   ]
  },
  {
   "cell_type": "code",
   "execution_count": 8,
   "metadata": {},
   "outputs": [],
   "source": [
    "from common import query_with_automated_custom_headers_to_csv\n",
    "\n",
    "query_with_automated_custom_headers_to_csv(query, 'file_name.csv')"
   ]
  },
  {
   "cell_type": "markdown",
   "metadata": {},
   "source": [
    "#### Example 4: members of a certain room\n",
    "Here we're filtering for a specific room, of which we don't know the exact name or id and count the total attendees of meetings in the last 3 months."
   ]
  },
  {
   "cell_type": "code",
   "execution_count": 3,
   "metadata": {},
   "outputs": [
    {
     "data": {
      "text/plain": [
       "[('Handelskammer beider Basel', 749)]"
      ]
     },
     "execution_count": 3,
     "metadata": {},
     "output_type": "execute_result"
    }
   ],
   "source": [
    "sql(\"SELECT name, id FROM rooms_room WHERE name LIKE '%Handelskammer%'\")"
   ]
  },
  {
   "cell_type": "code",
   "execution_count": null,
   "metadata": {},
   "outputs": [],
   "source": [
    "in_meetings = sql(\"SELECT count(DISTINCT n.id) \"\n",
    "    \"FROM members_meetingmember mm \"\n",
    "    \"JOIN members_member n ON mm.member_id = n.id \"\n",
    "    \"JOIN meetings_meeting m ON mm.meeting_id = m.id \"\n",
    "    \"WHERE n.room_id = 749 \"\n",
    "    \"AND m.start > NOW() - INTERVAL '6 months' \"\n",
    "    \"AND mm.is_attendee \")[0][0]\n",
    "in_meetings"
   ]
  },
  {
   "cell_type": "markdown",
   "metadata": {},
   "source": [
    "Now we want to see the proportion of the total members. According to <a href='https://wiki.sherpany.com/display/EN/Data+Models'>our wiki page for models</a>, role has to equal 1 for members. "
   ]
  },
  {
   "cell_type": "code",
   "execution_count": 15,
   "metadata": {},
   "outputs": [
    {
     "data": {
      "text/plain": [
       "34"
      ]
     },
     "execution_count": 15,
     "metadata": {},
     "output_type": "execute_result"
    }
   ],
   "source": [
    "total = sql(\"SELECT count(DISTINCT n.id) \"\n",
    "    \"FROM members_member n \"\n",
    "    \"WHERE n.room_id = 749 \"\n",
    "    \"AND n.role = 1 \"\n",
    "    \"AND n.id IN (\"+c.ACTIVE_AND_DRAFT_MEMBER_IDS+\") \"\n",
    "    \"AND n.user_id IN (\"+c.NON_SHERPANY_USER_IDS+\")\")[0][0]\n",
    "total"
   ]
  },
  {
   "cell_type": "code",
   "execution_count": 17,
   "metadata": {},
   "outputs": [
    {
     "data": {
      "text/plain": [
       "100.0"
      ]
     },
     "execution_count": 17,
     "metadata": {},
     "output_type": "execute_result"
    }
   ],
   "source": [
    "round(in_meetings / total * 100, 2)"
   ]
  },
  {
   "cell_type": "markdown",
   "metadata": {},
   "source": [
    "Appearently, all members in this specific room attended at least 1 meeting in the last 3 months."
   ]
  },
  {
   "cell_type": "code",
   "execution_count": null,
   "metadata": {},
   "outputs": [],
   "source": []
  }
 ],
 "metadata": {
  "kernelspec": {
   "display_name": "Python 3",
   "language": "python",
   "name": "python3"
  },
  "language_info": {
   "codemirror_mode": {
    "name": "ipython",
    "version": 3
   },
   "file_extension": ".py",
   "mimetype": "text/x-python",
   "name": "python",
   "nbconvert_exporter": "python",
   "pygments_lexer": "ipython3",
   "version": "3.8.6"
  }
 },
 "nbformat": 4,
 "nbformat_minor": 4
}
